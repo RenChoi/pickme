{
  "nbformat": 4,
  "nbformat_minor": 0,
  "metadata": {
    "colab": {
      "provenance": [],
      "include_colab_link": true
    },
    "kernelspec": {
      "name": "python3",
      "display_name": "Python 3"
    },
    "language_info": {
      "name": "python"
    }
  },
  "cells": [
    {
      "cell_type": "markdown",
      "metadata": {
        "id": "view-in-github",
        "colab_type": "text"
      },
      "source": [
        "<a href=\"https://colab.research.google.com/github/RenChoi/pickme/blob/main/%D0%BF%D0%B8%D1%82%D0%BE%D0%BD%D1%87%D0%B8%D0%BA_2204.ipynb\" target=\"_parent\"><img src=\"https://colab.research.google.com/assets/colab-badge.svg\" alt=\"Open In Colab\"/></a>"
      ]
    },
    {
      "cell_type": "markdown",
      "source": [
        "# Мазанов Артем 09-313"
      ],
      "metadata": {
        "id": "U5FMiVc6dWgd"
      }
    },
    {
      "cell_type": "markdown",
      "source": [
        "1. Создание базы данных и таблиц"
      ],
      "metadata": {
        "id": "32ck8sD5lGrA"
      }
    },
    {
      "cell_type": "code",
      "execution_count": 1,
      "metadata": {
        "id": "wlM6LQzfkHK0"
      },
      "outputs": [],
      "source": [
        "import sqlite3\n",
        "\n",
        "conn = sqlite3.connect('library.db')\n",
        "cursor = conn.cursor()\n",
        "\n",
        "cursor.execute('''\n",
        "CREATE TABLE IF NOT EXISTS books (\n",
        "    id INTEGER PRIMARY KEY AUTOINCREMENT,\n",
        "    title TEXT NOT NULL,\n",
        "    author TEXT NOT NULL,\n",
        "    year_published INTEGER,\n",
        "    genre TEXT\n",
        ")\n",
        "''')\n",
        "\n",
        "conn.commit()"
      ]
    },
    {
      "cell_type": "markdown",
      "source": [
        "2. Вставка данных"
      ],
      "metadata": {
        "id": "JlpF74KdlT0O"
      }
    },
    {
      "cell_type": "code",
      "source": [
        "\n",
        "books = [\n",
        "    (\"The Great Gatsby\", \"F. Scott Fitzgerald\", 1925, \"Fiction\"),\n",
        "    (\"1984\", \"George Orwell\", 1949, \"Dystopian\"),\n",
        "    (\"To Kill a Mockingbird\", \"Harper Lee\", 1960, \"Classic\")\n",
        "]\n",
        "\n",
        "cursor.executemany('''\n",
        "INSERT INTO books (title, author, year_published, genre)\n",
        "VALUES (?, ?, ?, ?)\n",
        "''', books)\n",
        "\n",
        "conn.commit()"
      ],
      "metadata": {
        "id": "CXA6oZ-0lWmm"
      },
      "execution_count": 2,
      "outputs": []
    },
    {
      "cell_type": "markdown",
      "source": [
        "3. Выборка всех данных"
      ],
      "metadata": {
        "id": "kRRNkK7alZ27"
      }
    },
    {
      "cell_type": "code",
      "source": [
        "cursor.execute(\"SELECT * FROM books\")\n",
        "all_books = cursor.fetchall()\n",
        "print(\"Все книги:\")\n",
        "for book in all_books:\n",
        "    print(book)"
      ],
      "metadata": {
        "id": "3YKT-o5GlhBW",
        "colab": {
          "base_uri": "https://localhost:8080/"
        },
        "outputId": "21598697-48ca-4877-c047-6db4b0ec2b6f"
      },
      "execution_count": 3,
      "outputs": [
        {
          "output_type": "stream",
          "name": "stdout",
          "text": [
            "Все книги:\n",
            "(1, 'The Great Gatsby', 'F. Scott Fitzgerald', 1925, 'Fiction')\n",
            "(2, '1984', 'George Orwell', 1949, 'Dystopian')\n",
            "(3, 'To Kill a Mockingbird', 'Harper Lee', 1960, 'Classic')\n"
          ]
        }
      ]
    },
    {
      "cell_type": "markdown",
      "source": [
        "4. Фильтрация данных"
      ],
      "metadata": {
        "id": "sJSYMACQlkhg"
      }
    },
    {
      "cell_type": "code",
      "source": [
        "cursor.execute(\"SELECT * FROM books WHERE year_published > 1950\")\n",
        "books_after_1950 = cursor.fetchall()\n",
        "print(\"\\nКниги после 1950 года:\")\n",
        "for book in books_after_1950:\n",
        "    print(book)"
      ],
      "metadata": {
        "id": "VyUcMmZXlotp",
        "colab": {
          "base_uri": "https://localhost:8080/"
        },
        "outputId": "9f7a6531-aa6c-4c61-ecf8-71ed9ad52e30"
      },
      "execution_count": 4,
      "outputs": [
        {
          "output_type": "stream",
          "name": "stdout",
          "text": [
            "\n",
            "Книги после 1950 года:\n",
            "(3, 'To Kill a Mockingbird', 'Harper Lee', 1960, 'Classic')\n"
          ]
        }
      ]
    },
    {
      "cell_type": "markdown",
      "source": [
        "5. Использование оператора LIKE"
      ],
      "metadata": {
        "id": "5qXju8ciltD5"
      }
    },
    {
      "cell_type": "code",
      "source": [
        "cursor.execute(\"SELECT * FROM books WHERE title LIKE 'T%'\")\n",
        "books_starting_with_t = cursor.fetchall()\n",
        "print(\"\\nКниги, название которых начинается на 'T':\")\n",
        "for book in books_starting_with_t:\n",
        "    print(book)"
      ],
      "metadata": {
        "id": "O0PjNKfHlvoq",
        "colab": {
          "base_uri": "https://localhost:8080/"
        },
        "outputId": "10f6c8fc-2715-4efd-a57e-8e66102aa01c"
      },
      "execution_count": 5,
      "outputs": [
        {
          "output_type": "stream",
          "name": "stdout",
          "text": [
            "\n",
            "Книги, название которых начинается на 'T':\n",
            "(1, 'The Great Gatsby', 'F. Scott Fitzgerald', 1925, 'Fiction')\n",
            "(3, 'To Kill a Mockingbird', 'Harper Lee', 1960, 'Classic')\n"
          ]
        }
      ]
    },
    {
      "cell_type": "markdown",
      "source": [
        "6. Сортировка данных"
      ],
      "metadata": {
        "id": "kXYxeI7Nlx4e"
      }
    },
    {
      "cell_type": "code",
      "source": [
        "cursor.execute(\"SELECT * FROM books ORDER BY year_published ASC\")\n",
        "sorted_books = cursor.fetchall()\n",
        "print(\"\\nКниги, отсортированные по году публикации:\")\n",
        "for book in sorted_books:\n",
        "    print(book)"
      ],
      "metadata": {
        "id": "VKerfMAVl_Vu",
        "colab": {
          "base_uri": "https://localhost:8080/"
        },
        "outputId": "2f35323c-7fd9-43ce-ee80-949864be82f5"
      },
      "execution_count": 6,
      "outputs": [
        {
          "output_type": "stream",
          "name": "stdout",
          "text": [
            "\n",
            "Книги, отсортированные по году публикации:\n",
            "(1, 'The Great Gatsby', 'F. Scott Fitzgerald', 1925, 'Fiction')\n",
            "(2, '1984', 'George Orwell', 1949, 'Dystopian')\n",
            "(3, 'To Kill a Mockingbird', 'Harper Lee', 1960, 'Classic')\n"
          ]
        }
      ]
    },
    {
      "cell_type": "markdown",
      "source": [
        "7. Ограничение количества строк"
      ],
      "metadata": {
        "id": "rfScVBoOl-_B"
      }
    },
    {
      "cell_type": "code",
      "source": [
        "cursor.execute(\"SELECT * FROM books ORDER BY title LIMIT 2\")\n",
        "first_two_books = cursor.fetchall()\n",
        "print(\"\\nПервые две книги по алфавиту:\")\n",
        "for book in first_two_books:\n",
        "    print(book)"
      ],
      "metadata": {
        "id": "2JyqsFBrmDqI",
        "colab": {
          "base_uri": "https://localhost:8080/"
        },
        "outputId": "fd1f16b5-a1cf-4a4e-a577-5d6f39f4118a"
      },
      "execution_count": 7,
      "outputs": [
        {
          "output_type": "stream",
          "name": "stdout",
          "text": [
            "\n",
            "Первые две книги по алфавиту:\n",
            "(2, '1984', 'George Orwell', 1949, 'Dystopian')\n",
            "(1, 'The Great Gatsby', 'F. Scott Fitzgerald', 1925, 'Fiction')\n"
          ]
        }
      ]
    },
    {
      "cell_type": "markdown",
      "source": [
        "8. Агрегатные функции"
      ],
      "metadata": {
        "id": "Bt6Qr19Sl714"
      }
    },
    {
      "cell_type": "code",
      "source": [
        "cursor.execute(\"SELECT COUNT(*) FROM books\")\n",
        "total_books = cursor.fetchone()[0]\n",
        "print(f\"\\nОбщее количество книг: {total_books}\")"
      ],
      "metadata": {
        "id": "puasOcSXmJSX",
        "colab": {
          "base_uri": "https://localhost:8080/"
        },
        "outputId": "452c36a8-2a4b-4d2a-f88a-471807fab253"
      },
      "execution_count": 8,
      "outputs": [
        {
          "output_type": "stream",
          "name": "stdout",
          "text": [
            "\n",
            "Общее количество книг: 3\n"
          ]
        }
      ]
    },
    {
      "cell_type": "markdown",
      "source": [
        "9. Группировка данных"
      ],
      "metadata": {
        "id": "8T7gud1CmRmL"
      }
    },
    {
      "cell_type": "code",
      "source": [
        "cursor.execute(\"SELECT genre, COUNT(*) FROM books GROUP BY genre\")\n",
        "books_by_genre = cursor.fetchall()\n",
        "print(\"\\nКоличество книг по жанрам:\")\n",
        "for genre, count in books_by_genre:\n",
        "    print(f\"{genre}: {count}\")"
      ],
      "metadata": {
        "id": "nHq_keVimU6I",
        "colab": {
          "base_uri": "https://localhost:8080/"
        },
        "outputId": "fc7291b8-1f18-40dc-b1b5-23ff0afcc1cf"
      },
      "execution_count": 9,
      "outputs": [
        {
          "output_type": "stream",
          "name": "stdout",
          "text": [
            "\n",
            "Количество книг по жанрам:\n",
            "Classic: 1\n",
            "Dystopian: 1\n",
            "Fiction: 1\n"
          ]
        }
      ]
    },
    {
      "cell_type": "markdown",
      "source": [
        "10. Обновление данных"
      ],
      "metadata": {
        "id": "5n2mGCGLmW9t"
      }
    },
    {
      "cell_type": "code",
      "source": [
        "cursor.execute(\"UPDATE books SET year_published = 1948 WHERE title = '1984'\")\n",
        "conn.commit()\n",
        "print(\"\\nГод публикации книги '1984' обновлен на 1948\")"
      ],
      "metadata": {
        "id": "f_Lx7I3OmZN9",
        "colab": {
          "base_uri": "https://localhost:8080/"
        },
        "outputId": "d4cf9856-e210-4037-8b46-6a4646b7dfc9"
      },
      "execution_count": 10,
      "outputs": [
        {
          "output_type": "stream",
          "name": "stdout",
          "text": [
            "\n",
            "Год публикации книги '1984' обновлен на 1948\n"
          ]
        }
      ]
    },
    {
      "cell_type": "markdown",
      "source": [
        "11. Удаление данных\n"
      ],
      "metadata": {
        "id": "ljkRacyrmbG_"
      }
    },
    {
      "cell_type": "code",
      "source": [
        "cursor.execute(\"DELETE FROM books WHERE title = 'The Great Gatsby'\")\n",
        "conn.commit()\n",
        "print(\"\\nКнига 'The Great Gatsby' удалена\")"
      ],
      "metadata": {
        "id": "Nj8PlAKRmdrl",
        "colab": {
          "base_uri": "https://localhost:8080/"
        },
        "outputId": "31985bbd-b89f-43e9-f58e-a01e2539fc23"
      },
      "execution_count": 11,
      "outputs": [
        {
          "output_type": "stream",
          "name": "stdout",
          "text": [
            "\n",
            "Книга 'The Great Gatsby' удалена\n"
          ]
        }
      ]
    },
    {
      "cell_type": "markdown",
      "source": [
        "12. Создание индекса"
      ],
      "metadata": {
        "id": "Sul69NdLmgRN"
      }
    },
    {
      "cell_type": "code",
      "source": [
        "cursor.execute(\"CREATE INDEX IF NOT EXISTS idx_author ON books(author)\")\n",
        "conn.commit()\n",
        "print(\"\\nИндекс для столбца author создан\")"
      ],
      "metadata": {
        "id": "fJ6mB78fmiAA",
        "colab": {
          "base_uri": "https://localhost:8080/"
        },
        "outputId": "f98c597e-b0ce-4e51-caf7-a940092bec86"
      },
      "execution_count": 12,
      "outputs": [
        {
          "output_type": "stream",
          "name": "stdout",
          "text": [
            "\n",
            "Индекс для столбца author создан\n"
          ]
        }
      ]
    },
    {
      "cell_type": "markdown",
      "source": [
        "13. Проверка существования индекса"
      ],
      "metadata": {
        "id": "xyo9GpGvmkGi"
      }
    },
    {
      "cell_type": "code",
      "source": [
        "cursor.execute(\"SELECT name FROM sqlite_master WHERE type = 'index' AND name = 'idx_author'\")\n",
        "index_exists = cursor.fetchone()\n",
        "print(\"\\nИндекс для author существует:\", bool(index_exists))"
      ],
      "metadata": {
        "id": "EAtZA9SemmPN",
        "colab": {
          "base_uri": "https://localhost:8080/"
        },
        "outputId": "fdfe52eb-5169-49c7-87ec-6b4d706f6ff2"
      },
      "execution_count": 13,
      "outputs": [
        {
          "output_type": "stream",
          "name": "stdout",
          "text": [
            "\n",
            "Индекс для author существует: True\n"
          ]
        }
      ]
    },
    {
      "cell_type": "markdown",
      "source": [
        "14. Триггер для логирования"
      ],
      "metadata": {
        "id": "-mgzc7Vzmoim"
      }
    },
    {
      "cell_type": "code",
      "source": [
        "\n",
        "cursor.execute('''\n",
        "CREATE TABLE IF NOT EXISTS logs (\n",
        "    id INTEGER PRIMARY KEY AUTOINCREMENT,\n",
        "    action TEXT,\n",
        "    book_id INTEGER,\n",
        "    timestamp DATETIME DEFAULT CURRENT_TIMESTAMP\n",
        ")\n",
        "''')\n",
        "\n",
        "cursor.execute('''\n",
        "CREATE TRIGGER IF NOT EXISTS log_book_insert\n",
        "AFTER INSERT ON books\n",
        "BEGIN\n",
        "    INSERT INTO logs (action, book_id) VALUES ('INSERT', NEW.id);\n",
        "END;\n",
        "''')\n",
        "\n",
        "conn.commit()\n",
        "print(\"\\nТриггер для логирования создан\")"
      ],
      "metadata": {
        "id": "zlZfBi7hmrwX",
        "colab": {
          "base_uri": "https://localhost:8080/"
        },
        "outputId": "b16b9824-9175-4f90-a2d7-57e2ed855165"
      },
      "execution_count": 14,
      "outputs": [
        {
          "output_type": "stream",
          "name": "stdout",
          "text": [
            "\n",
            "Триггер для логирования создан\n"
          ]
        }
      ]
    },
    {
      "cell_type": "markdown",
      "source": [
        "15. Транзакции"
      ],
      "metadata": {
        "id": "RvqtzJfimuHK"
      }
    },
    {
      "cell_type": "code",
      "source": [
        "try:\n",
        "    conn.execute(\"BEGIN TRANSACTION\")\n",
        "\n",
        "    cursor.execute('''\n",
        "    INSERT INTO books (title, author, year_published, genre)\n",
        "    VALUES ('The Catcher in the Rye', 'J.D. Salinger', 1951, 'Classic')\n",
        "    ''')\n",
        "\n",
        "    cursor.execute(\"UPDATE books SET year_published = 1949 WHERE title = '1984'\")\n",
        "\n",
        "    conn.commit()\n",
        "    print(\"\\nТранзакция выполнена успешно\")\n",
        "\n",
        "except sqlite3.Error as e:\n",
        "    conn.rollback()\n",
        "    print(\"\\nОшибка в транзакции, изменения отменены:\", e)"
      ],
      "metadata": {
        "id": "hke6O7U0mxH8",
        "colab": {
          "base_uri": "https://localhost:8080/"
        },
        "outputId": "f7faebac-7d56-4c80-e825-a98363eb321e"
      },
      "execution_count": 15,
      "outputs": [
        {
          "output_type": "stream",
          "name": "stdout",
          "text": [
            "\n",
            "Транзакция выполнена успешно\n"
          ]
        }
      ]
    },
    {
      "cell_type": "markdown",
      "source": [
        "16. Пользовательская функция"
      ],
      "metadata": {
        "id": "KBhqLzzWmzed"
      }
    },
    {
      "cell_type": "code",
      "source": [
        "import datetime\n",
        "\n",
        "def calculate_book_age(year_published):\n",
        "    current_year = datetime.datetime.now().year\n",
        "    return current_year - year_published\n",
        "\n",
        "conn.create_function(\"book_age\", 1, calculate_book_age)\n",
        "\n",
        "cursor.execute(\"SELECT title, book_age(year_published) FROM books\")\n",
        "books_with_age = cursor.fetchall()\n",
        "print(\"\\nКниги с их возрастом:\")\n",
        "for title, age in books_with_age:\n",
        "    print(f\"{title}: {age} лет\")"
      ],
      "metadata": {
        "id": "lpNBz9X-m2s8",
        "colab": {
          "base_uri": "https://localhost:8080/"
        },
        "outputId": "2eced58f-5a7c-4f89-fc20-a2fbb85b6cfb"
      },
      "execution_count": 16,
      "outputs": [
        {
          "output_type": "stream",
          "name": "stdout",
          "text": [
            "\n",
            "Книги с их возрастом:\n",
            "1984: 76 лет\n",
            "To Kill a Mockingbird: 65 лет\n",
            "The Catcher in the Rye: 74 лет\n"
          ]
        }
      ]
    },
    {
      "cell_type": "markdown",
      "source": [
        "17. Представления"
      ],
      "metadata": {
        "id": "75Lpu6Mnm5Ee"
      }
    },
    {
      "cell_type": "code",
      "source": [
        "cursor.execute('''\n",
        "CREATE VIEW IF NOT EXISTS modern_books AS\n",
        "SELECT * FROM books WHERE year_published > 1950\n",
        "''')\n",
        "\n",
        "cursor.execute(\"SELECT * FROM modern_books\")\n",
        "modern_books = cursor.fetchall()\n",
        "print(\"\\nСовременные книги (после 1950 года):\")\n",
        "for book in modern_books:\n",
        "    print(book)"
      ],
      "metadata": {
        "id": "QM-hS2Ywm7Gn",
        "colab": {
          "base_uri": "https://localhost:8080/"
        },
        "outputId": "e12990f0-d5ba-420f-80da-75279a2a142a"
      },
      "execution_count": 17,
      "outputs": [
        {
          "output_type": "stream",
          "name": "stdout",
          "text": [
            "\n",
            "Современные книги (после 1950 года):\n",
            "(3, 'To Kill a Mockingbird', 'Harper Lee', 1960, 'Classic')\n",
            "(4, 'The Catcher in the Rye', 'J.D. Salinger', 1951, 'Classic')\n"
          ]
        }
      ]
    },
    {
      "cell_type": "markdown",
      "source": [
        "18. Удаление таблицы"
      ],
      "metadata": {
        "id": "Uc-cRPoEm9RY"
      }
    },
    {
      "cell_type": "code",
      "source": [
        "cursor.execute(\"DROP TABLE IF EXISTS books\")\n",
        "cursor.execute(\"SELECT name FROM sqlite_master WHERE type='table' AND name='books'\")\n",
        "table_exists = cursor.fetchone()\n",
        "print(\"\\nТаблица books существует после удаления:\", bool(table_exists))"
      ],
      "metadata": {
        "id": "014hZf4Im_rd",
        "colab": {
          "base_uri": "https://localhost:8080/"
        },
        "outputId": "26fe5c3d-62d5-49f2-b8b1-ad269a941e30"
      },
      "execution_count": 18,
      "outputs": [
        {
          "output_type": "stream",
          "name": "stdout",
          "text": [
            "\n",
            "Таблица books существует после удаления: False\n"
          ]
        }
      ]
    },
    {
      "cell_type": "markdown",
      "source": [
        "19. Композитный индекс"
      ],
      "metadata": {
        "id": "XE_5wRlSnDXt"
      }
    },
    {
      "cell_type": "code",
      "source": [
        "cursor.execute(\"SELECT name FROM sqlite_master WHERE type='index' AND name='idx_author_year'\")\n",
        "if cursor.fetchone() is None:\n",
        "    cursor.execute(\"CREATE INDEX idx_author_year ON books(author, year_published)\")\n",
        "    print(\"\\nКомпозитный индекс для author и year_published создан\")\n",
        "else:\n",
        "    print(\"\\nИндекс уже существует\")"
      ],
      "metadata": {
        "id": "oPflnxyZnI41"
      },
      "execution_count": null,
      "outputs": []
    },
    {
      "cell_type": "markdown",
      "source": [
        "20. Удаление базы данных"
      ],
      "metadata": {
        "id": "spy3O0U0nQSV"
      }
    },
    {
      "cell_type": "code",
      "source": [
        "import os\n",
        "\n",
        "conn.close()\n",
        "\n",
        "if os.path.exists('library.db'):\n",
        "    os.remove('library.db')\n",
        "    print(\"\\nФайл базы данных library.db удален\")\n",
        "else:\n",
        "    print(\"\\nФайл базы данных library.db не существует\")"
      ],
      "metadata": {
        "id": "Dk3ODdWgnVFa",
        "colab": {
          "base_uri": "https://localhost:8080/"
        },
        "outputId": "8ccabdbb-a7d9-4b18-9cae-5e1b32e6694a"
      },
      "execution_count": 20,
      "outputs": [
        {
          "output_type": "stream",
          "name": "stdout",
          "text": [
            "\n",
            "Файл базы данных library.db удален\n"
          ]
        }
      ]
    },
    {
      "cell_type": "markdown",
      "source": [
        "21. Обязательное задание.\n",
        "Создать базу данных (БД)."
      ],
      "metadata": {
        "id": "yv03my9JnZer"
      }
    },
    {
      "cell_type": "code",
      "source": [
        "\n",
        "class Student:\n",
        "    def __init__(self, id, name, age, grade):\n",
        "        self.id = id\n",
        "        self.name = name\n",
        "        self.age = age\n",
        "        self.grade = grade\n",
        "\n",
        "conn = sqlite3.connect('school.db')\n",
        "cursor = conn.cursor()\n",
        "\n",
        "cursor.execute('''\n",
        "CREATE TABLE IF NOT EXISTS students (\n",
        "    id INTEGER PRIMARY KEY,\n",
        "    name TEXT NOT NULL,\n",
        "    age INTEGER,\n",
        "    grade REAL\n",
        ")\n",
        "''')\n",
        "conn.commit()\n",
        "\n",
        "def add_student(student):\n",
        "    cursor.execute('''\n",
        "    INSERT INTO students (id, name, age, grade)\n",
        "    VALUES (?, ?, ?, ?)\n",
        "    ''', (student.id, student.name, student.age, student.grade))\n",
        "    conn.commit()\n",
        "\n",
        "\n",
        "def get_all_students():\n",
        "    cursor.execute(\"SELECT * FROM students\")\n",
        "    return cursor.fetchall()\n",
        "\n",
        "student1 = Student(1, \"Иван Иванов\", 18, 4.5)\n",
        "student2 = Student(2, \"Петр Петров\", 19, 3.8)\n",
        "\n",
        "add_student(student1)\n",
        "add_student(student2)\n",
        "\n",
        "print(\"\\nВсе студенты:\")\n",
        "for student in get_all_students():\n",
        "    print(student)\n",
        "\n",
        "conn.close()"
      ],
      "metadata": {
        "id": "9uCejyF5naN0",
        "colab": {
          "base_uri": "https://localhost:8080/"
        },
        "outputId": "c0fd1285-05bd-4111-d652-31c439f9f013"
      },
      "execution_count": 21,
      "outputs": [
        {
          "output_type": "stream",
          "name": "stdout",
          "text": [
            "\n",
            "Все студенты:\n",
            "(1, 'Иван Иванов', 18, 4.5)\n",
            "(2, 'Петр Петров', 19, 3.8)\n"
          ]
        }
      ]
    }
  ]
}